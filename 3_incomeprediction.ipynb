{
  "nbformat": 4,
  "nbformat_minor": 0,
  "metadata": {
    "colab": {
      "name": "3_incomeprediction.ipynb",
      "provenance": [],
      "authorship_tag": "ABX9TyMO7rs/otcQZ1GOdytjtYUk",
      "include_colab_link": true
    },
    "kernelspec": {
      "name": "python3",
      "display_name": "Python 3"
    },
    "language_info": {
      "name": "python"
    }
  },
  "cells": [
    {
      "cell_type": "markdown",
      "metadata": {
        "id": "view-in-github",
        "colab_type": "text"
      },
      "source": [
        "<a href=\"https://colab.research.google.com/github/sarinananya/YBI_MLmodels/blob/main/3_incomeprediction.ipynb\" target=\"_parent\"><img src=\"https://colab.research.google.com/assets/colab-badge.svg\" alt=\"Open In Colab\"/></a>"
      ]
    },
    {
      "cell_type": "markdown",
      "source": [
        "**Importing packages and dataset**"
      ],
      "metadata": {
        "id": "bC_wog64shSu"
      }
    },
    {
      "cell_type": "code",
      "execution_count": null,
      "metadata": {
        "id": "pDSKK4Y9sb5Q"
      },
      "outputs": [],
      "source": [
        "import pandas as pd\n",
        "import numpy as np\n",
        "\n",
        "df=pd.read_csv(\"https://raw.githubusercontent.com/ybifoundation/Dataset/main/Adult%20Salary.csv\")"
      ]
    },
    {
      "cell_type": "markdown",
      "source": [
        "**Exploring the data**"
      ],
      "metadata": {
        "id": "gtKzui1KuTQ0"
      }
    },
    {
      "cell_type": "code",
      "source": [
        "df.head(5)"
      ],
      "metadata": {
        "colab": {
          "base_uri": "https://localhost:8080/",
          "height": 206
        },
        "id": "uoE0Ww5CuW1z",
        "outputId": "8fcaa47a-90d5-4b59-d203-416219681dc9"
      },
      "execution_count": null,
      "outputs": [
        {
          "output_type": "execute_result",
          "data": {
            "text/plain": [
              "   Age  Gender WorkingClass     Education       MaritalStatus  \\\n",
              "0   25    Male      Private          11th       Never-married   \n",
              "1   38    Male      Private       HS-grad  Married-civ-spouse   \n",
              "2   28    Male    Local-gov    Assoc-acdm  Married-civ-spouse   \n",
              "3   44    Male      Private  Some-college  Married-civ-spouse   \n",
              "4   18  Female            ?  Some-college       Never-married   \n",
              "\n",
              "          Occupation Relationship   Race  NativeCountry Income  \n",
              "0  Machine-op-inspct    Own-child  Black  United-States  <=50K  \n",
              "1    Farming-fishing      Husband  White  United-States  <=50K  \n",
              "2    Protective-serv      Husband  White  United-States   >50K  \n",
              "3  Machine-op-inspct      Husband  Black  United-States   >50K  \n",
              "4                  ?    Own-child  White  United-States  <=50K  "
            ],
            "text/html": [
              "\n",
              "  <div id=\"df-a5dcdf63-d830-4533-8a97-d7799ee5104a\">\n",
              "    <div class=\"colab-df-container\">\n",
              "      <div>\n",
              "<style scoped>\n",
              "    .dataframe tbody tr th:only-of-type {\n",
              "        vertical-align: middle;\n",
              "    }\n",
              "\n",
              "    .dataframe tbody tr th {\n",
              "        vertical-align: top;\n",
              "    }\n",
              "\n",
              "    .dataframe thead th {\n",
              "        text-align: right;\n",
              "    }\n",
              "</style>\n",
              "<table border=\"1\" class=\"dataframe\">\n",
              "  <thead>\n",
              "    <tr style=\"text-align: right;\">\n",
              "      <th></th>\n",
              "      <th>Age</th>\n",
              "      <th>Gender</th>\n",
              "      <th>WorkingClass</th>\n",
              "      <th>Education</th>\n",
              "      <th>MaritalStatus</th>\n",
              "      <th>Occupation</th>\n",
              "      <th>Relationship</th>\n",
              "      <th>Race</th>\n",
              "      <th>NativeCountry</th>\n",
              "      <th>Income</th>\n",
              "    </tr>\n",
              "  </thead>\n",
              "  <tbody>\n",
              "    <tr>\n",
              "      <th>0</th>\n",
              "      <td>25</td>\n",
              "      <td>Male</td>\n",
              "      <td>Private</td>\n",
              "      <td>11th</td>\n",
              "      <td>Never-married</td>\n",
              "      <td>Machine-op-inspct</td>\n",
              "      <td>Own-child</td>\n",
              "      <td>Black</td>\n",
              "      <td>United-States</td>\n",
              "      <td>&lt;=50K</td>\n",
              "    </tr>\n",
              "    <tr>\n",
              "      <th>1</th>\n",
              "      <td>38</td>\n",
              "      <td>Male</td>\n",
              "      <td>Private</td>\n",
              "      <td>HS-grad</td>\n",
              "      <td>Married-civ-spouse</td>\n",
              "      <td>Farming-fishing</td>\n",
              "      <td>Husband</td>\n",
              "      <td>White</td>\n",
              "      <td>United-States</td>\n",
              "      <td>&lt;=50K</td>\n",
              "    </tr>\n",
              "    <tr>\n",
              "      <th>2</th>\n",
              "      <td>28</td>\n",
              "      <td>Male</td>\n",
              "      <td>Local-gov</td>\n",
              "      <td>Assoc-acdm</td>\n",
              "      <td>Married-civ-spouse</td>\n",
              "      <td>Protective-serv</td>\n",
              "      <td>Husband</td>\n",
              "      <td>White</td>\n",
              "      <td>United-States</td>\n",
              "      <td>&gt;50K</td>\n",
              "    </tr>\n",
              "    <tr>\n",
              "      <th>3</th>\n",
              "      <td>44</td>\n",
              "      <td>Male</td>\n",
              "      <td>Private</td>\n",
              "      <td>Some-college</td>\n",
              "      <td>Married-civ-spouse</td>\n",
              "      <td>Machine-op-inspct</td>\n",
              "      <td>Husband</td>\n",
              "      <td>Black</td>\n",
              "      <td>United-States</td>\n",
              "      <td>&gt;50K</td>\n",
              "    </tr>\n",
              "    <tr>\n",
              "      <th>4</th>\n",
              "      <td>18</td>\n",
              "      <td>Female</td>\n",
              "      <td>?</td>\n",
              "      <td>Some-college</td>\n",
              "      <td>Never-married</td>\n",
              "      <td>?</td>\n",
              "      <td>Own-child</td>\n",
              "      <td>White</td>\n",
              "      <td>United-States</td>\n",
              "      <td>&lt;=50K</td>\n",
              "    </tr>\n",
              "  </tbody>\n",
              "</table>\n",
              "</div>\n",
              "      <button class=\"colab-df-convert\" onclick=\"convertToInteractive('df-a5dcdf63-d830-4533-8a97-d7799ee5104a')\"\n",
              "              title=\"Convert this dataframe to an interactive table.\"\n",
              "              style=\"display:none;\">\n",
              "        \n",
              "  <svg xmlns=\"http://www.w3.org/2000/svg\" height=\"24px\"viewBox=\"0 0 24 24\"\n",
              "       width=\"24px\">\n",
              "    <path d=\"M0 0h24v24H0V0z\" fill=\"none\"/>\n",
              "    <path d=\"M18.56 5.44l.94 2.06.94-2.06 2.06-.94-2.06-.94-.94-2.06-.94 2.06-2.06.94zm-11 1L8.5 8.5l.94-2.06 2.06-.94-2.06-.94L8.5 2.5l-.94 2.06-2.06.94zm10 10l.94 2.06.94-2.06 2.06-.94-2.06-.94-.94-2.06-.94 2.06-2.06.94z\"/><path d=\"M17.41 7.96l-1.37-1.37c-.4-.4-.92-.59-1.43-.59-.52 0-1.04.2-1.43.59L10.3 9.45l-7.72 7.72c-.78.78-.78 2.05 0 2.83L4 21.41c.39.39.9.59 1.41.59.51 0 1.02-.2 1.41-.59l7.78-7.78 2.81-2.81c.8-.78.8-2.07 0-2.86zM5.41 20L4 18.59l7.72-7.72 1.47 1.35L5.41 20z\"/>\n",
              "  </svg>\n",
              "      </button>\n",
              "      \n",
              "  <style>\n",
              "    .colab-df-container {\n",
              "      display:flex;\n",
              "      flex-wrap:wrap;\n",
              "      gap: 12px;\n",
              "    }\n",
              "\n",
              "    .colab-df-convert {\n",
              "      background-color: #E8F0FE;\n",
              "      border: none;\n",
              "      border-radius: 50%;\n",
              "      cursor: pointer;\n",
              "      display: none;\n",
              "      fill: #1967D2;\n",
              "      height: 32px;\n",
              "      padding: 0 0 0 0;\n",
              "      width: 32px;\n",
              "    }\n",
              "\n",
              "    .colab-df-convert:hover {\n",
              "      background-color: #E2EBFA;\n",
              "      box-shadow: 0px 1px 2px rgba(60, 64, 67, 0.3), 0px 1px 3px 1px rgba(60, 64, 67, 0.15);\n",
              "      fill: #174EA6;\n",
              "    }\n",
              "\n",
              "    [theme=dark] .colab-df-convert {\n",
              "      background-color: #3B4455;\n",
              "      fill: #D2E3FC;\n",
              "    }\n",
              "\n",
              "    [theme=dark] .colab-df-convert:hover {\n",
              "      background-color: #434B5C;\n",
              "      box-shadow: 0px 1px 3px 1px rgba(0, 0, 0, 0.15);\n",
              "      filter: drop-shadow(0px 1px 2px rgba(0, 0, 0, 0.3));\n",
              "      fill: #FFFFFF;\n",
              "    }\n",
              "  </style>\n",
              "\n",
              "      <script>\n",
              "        const buttonEl =\n",
              "          document.querySelector('#df-a5dcdf63-d830-4533-8a97-d7799ee5104a button.colab-df-convert');\n",
              "        buttonEl.style.display =\n",
              "          google.colab.kernel.accessAllowed ? 'block' : 'none';\n",
              "\n",
              "        async function convertToInteractive(key) {\n",
              "          const element = document.querySelector('#df-a5dcdf63-d830-4533-8a97-d7799ee5104a');\n",
              "          const dataTable =\n",
              "            await google.colab.kernel.invokeFunction('convertToInteractive',\n",
              "                                                     [key], {});\n",
              "          if (!dataTable) return;\n",
              "\n",
              "          const docLinkHtml = 'Like what you see? Visit the ' +\n",
              "            '<a target=\"_blank\" href=https://colab.research.google.com/notebooks/data_table.ipynb>data table notebook</a>'\n",
              "            + ' to learn more about interactive tables.';\n",
              "          element.innerHTML = '';\n",
              "          dataTable['output_type'] = 'display_data';\n",
              "          await google.colab.output.renderOutput(dataTable, element);\n",
              "          const docLink = document.createElement('div');\n",
              "          docLink.innerHTML = docLinkHtml;\n",
              "          element.appendChild(docLink);\n",
              "        }\n",
              "      </script>\n",
              "    </div>\n",
              "  </div>\n",
              "  "
            ]
          },
          "metadata": {},
          "execution_count": 2
        }
      ]
    },
    {
      "cell_type": "code",
      "source": [
        "print(df.columns)\n",
        "len(df.columns)"
      ],
      "metadata": {
        "colab": {
          "base_uri": "https://localhost:8080/"
        },
        "id": "HeHq8Ir4yrDO",
        "outputId": "f8e05c9b-a7cb-42c7-e85c-49e13514bc71"
      },
      "execution_count": null,
      "outputs": [
        {
          "output_type": "stream",
          "name": "stdout",
          "text": [
            "Index(['Age', 'Gender', 'WorkingClass', 'Education', 'MaritalStatus',\n",
            "       'Occupation', 'Relationship', 'Race', 'NativeCountry', 'Income'],\n",
            "      dtype='object')\n"
          ]
        },
        {
          "output_type": "execute_result",
          "data": {
            "text/plain": [
              "10"
            ]
          },
          "metadata": {},
          "execution_count": 3
        }
      ]
    },
    {
      "cell_type": "markdown",
      "source": [
        "from the given dataset we can observe that \n",
        "1. Income is the **dependent variable** and age, gender, WorkingClass, Education,MaritalStatus, Occupation\tRelationship, Race and NativeCountry are **independent variables**\n",
        "2. The target variable i.e. income is either greater than 50k or less than 50k which implies that this is a binary classification problem"
      ],
      "metadata": {
        "id": "_5Rsy_K1ugiy"
      }
    },
    {
      "cell_type": "code",
      "source": [
        "df.info()\n",
        "#observation- data set has no missing values"
      ],
      "metadata": {
        "colab": {
          "base_uri": "https://localhost:8080/"
        },
        "id": "9ZtmoETJwElp",
        "outputId": "de4da252-cb69-4d9a-f7a5-e86578759551"
      },
      "execution_count": null,
      "outputs": [
        {
          "output_type": "stream",
          "name": "stdout",
          "text": [
            "<class 'pandas.core.frame.DataFrame'>\n",
            "RangeIndex: 48842 entries, 0 to 48841\n",
            "Data columns (total 10 columns):\n",
            " #   Column         Non-Null Count  Dtype \n",
            "---  ------         --------------  ----- \n",
            " 0   Age            48842 non-null  int64 \n",
            " 1   Gender         48842 non-null  object\n",
            " 2   WorkingClass   48842 non-null  object\n",
            " 3   Education      48842 non-null  object\n",
            " 4   MaritalStatus  48842 non-null  object\n",
            " 5   Occupation     48842 non-null  object\n",
            " 6   Relationship   48842 non-null  object\n",
            " 7   Race           48842 non-null  object\n",
            " 8   NativeCountry  48842 non-null  object\n",
            " 9   Income         48842 non-null  object\n",
            "dtypes: int64(1), object(9)\n",
            "memory usage: 3.7+ MB\n"
          ]
        }
      ]
    },
    {
      "cell_type": "code",
      "source": [
        "#df.shape\n",
        "#df.describe\n"
      ],
      "metadata": {
        "id": "twAFfDrdwnNy"
      },
      "execution_count": null,
      "outputs": []
    },
    {
      "cell_type": "code",
      "source": [
        "import seaborn as sns\n",
        "sns.countplot(x='Income',data=df)"
      ],
      "metadata": {
        "colab": {
          "base_uri": "https://localhost:8080/",
          "height": 296
        },
        "id": "LhErNp6b1JgH",
        "outputId": "6e1489fa-7593-4e3d-ad3a-dd64f7ddc4ad"
      },
      "execution_count": null,
      "outputs": [
        {
          "output_type": "execute_result",
          "data": {
            "text/plain": [
              "<matplotlib.axes._subplots.AxesSubplot at 0x7f9b7a64aa90>"
            ]
          },
          "metadata": {},
          "execution_count": 6
        },
        {
          "output_type": "display_data",
          "data": {
            "text/plain": [
              "<Figure size 432x288 with 1 Axes>"
            ],
            "image/png": "[encoded data removed]"
          },
          "metadata": {
            "needs_background": "light"
          }
        }
      ]
    },
    {
      "cell_type": "code",
      "source": [
        "df['Income'].value_counts()"
      ],
      "metadata": {
        "colab": {
          "base_uri": "https://localhost:8080/"
        },
        "id": "FZchDugP1PPI",
        "outputId": "a828aa57-1a28-46cf-e8bd-667ac2414483"
      },
      "execution_count": null,
      "outputs": [
        {
          "output_type": "execute_result",
          "data": {
            "text/plain": [
              "<=50K    37155\n",
              ">50K     11687\n",
              "Name: Income, dtype: int64"
            ]
          },
          "metadata": {},
          "execution_count": 7
        }
      ]
    },
    {
      "cell_type": "code",
      "source": [
        "print(f'<=50k: {round(37155/48842*100,2)} %')\n",
        "print(f'>50k: {round(11687/48842*100,2)} %')"
      ],
      "metadata": {
        "id": "Ps-JDAY13iq-",
        "colab": {
          "base_uri": "https://localhost:8080/"
        },
        "outputId": "e247ef8d-4dbb-4f50-d60b-7896a1c166b7"
      },
      "execution_count": null,
      "outputs": [
        {
          "output_type": "stream",
          "name": "stdout",
          "text": [
            "<=50k: 76.07 %\n",
            ">50k: 23.93 %\n"
          ]
        }
      ]
    },
    {
      "cell_type": "markdown",
      "source": [
        "**feature engineering**"
      ],
      "metadata": {
        "id": "kBtLJKwnoxCz"
      }
    },
    {
      "cell_type": "code",
      "source": [
        "df.isnull().sum()"
      ],
      "metadata": {
        "colab": {
          "base_uri": "https://localhost:8080/"
        },
        "id": "7f4CzUBPo0X5",
        "outputId": "6a6d95b1-4f43-4285-a6ae-b5685922981a"
      },
      "execution_count": null,
      "outputs": [
        {
          "output_type": "execute_result",
          "data": {
            "text/plain": [
              "Age              0\n",
              "Gender           0\n",
              "WorkingClass     0\n",
              "Education        0\n",
              "MaritalStatus    0\n",
              "Occupation       0\n",
              "Relationship     0\n",
              "Race             0\n",
              "NativeCountry    0\n",
              "Income           0\n",
              "dtype: int64"
            ]
          },
          "metadata": {},
          "execution_count": 9
        }
      ]
    },
    {
      "cell_type": "code",
      "source": [
        "#there is only one numerical value as of now i.e. age\n",
        "numerical= df['Age']\n",
        "print(len(df['Age'].unique()))\n",
        "df['Age']=np.log(df['Age'])\n",
        "#age has continuous values(not discrete)"
      ],
      "metadata": {
        "colab": {
          "base_uri": "https://localhost:8080/"
        },
        "id": "u3IL3cGso_Ai",
        "outputId": "5f8b21bd-40cb-440f-a9f1-6859af13304e"
      },
      "execution_count": null,
      "outputs": [
        {
          "output_type": "stream",
          "name": "stdout",
          "text": [
            "74\n"
          ]
        },
        {
          "output_type": "stream",
          "name": "stderr",
          "text": [
            "/usr/local/lib/python3.7/dist-packages/pandas/core/arraylike.py:364: RuntimeWarning: invalid value encountered in log\n",
            "  result = getattr(ufunc, method)(*inputs, **kwargs)\n"
          ]
        }
      ]
    },
    {
      "cell_type": "code",
      "source": [
        "#string values\n",
        "categorical= {i for i in df.columns if df[i].dtypes==object}"
      ],
      "metadata": {
        "id": "9LofkzkcrccY"
      },
      "execution_count": null,
      "outputs": []
    },
    {
      "cell_type": "code",
      "source": [
        "for feature in categorical:\n",
        "  print(f\"{feature}: {len(df[feature].unique())}\")"
      ],
      "metadata": {
        "id": "ul4NjxVKsm24",
        "colab": {
          "base_uri": "https://localhost:8080/"
        },
        "outputId": "b445513b-1c7b-4ec8-d204-5c86db25a087"
      },
      "execution_count": null,
      "outputs": [
        {
          "output_type": "stream",
          "name": "stdout",
          "text": [
            "Income: 2\n",
            "Gender: 2\n",
            "NativeCountry: 42\n",
            "Education: 16\n",
            "Relationship: 6\n",
            "MaritalStatus: 7\n",
            "Occupation: 15\n",
            "WorkingClass: 9\n",
            "Race: 5\n"
          ]
        }
      ]
    },
    {
      "cell_type": "code",
      "source": [
        "#checking for the percentage of missing values(if any) in the data\n",
        "for feature in categorical:\n",
        "  print(df[feature].value_counts())\n",
        "  print(\"\\n \\n\")"
      ],
      "metadata": {
        "colab": {
          "base_uri": "https://localhost:8080/"
        },
        "id": "uPhtbjndLUmo",
        "outputId": "21df1b4e-7ecb-4270-8267-150bd4f838d6"
      },
      "execution_count": null,
      "outputs": [
        {
          "output_type": "stream",
          "name": "stdout",
          "text": [
            "0    37155\n",
            "1    11687\n",
            "Name: Income, dtype: int64\n",
            "\n",
            " \n",
            "\n",
            "1    32650\n",
            "0    16192\n",
            "Name: Gender, dtype: int64\n",
            "\n",
            " \n",
            "\n",
            "38    44689\n",
            "25      951\n",
            "29      295\n",
            "10      206\n",
            "32      184\n",
            "1       182\n",
            "7       155\n",
            "18      151\n",
            "4       138\n",
            "8       127\n",
            "2       122\n",
            "34      115\n",
            "22      106\n",
            "21      105\n",
            "5       103\n",
            "23       92\n",
            "12       88\n",
            "30       87\n",
            "39       86\n",
            "3        85\n",
            "13       75\n",
            "31       67\n",
            "35       65\n",
            "19       59\n",
            "11       49\n",
            "26       49\n",
            "28       46\n",
            "6        45\n",
            "9        38\n",
            "20       37\n",
            "16       30\n",
            "36       30\n",
            "0        28\n",
            "37       27\n",
            "40       23\n",
            "27       23\n",
            "24       23\n",
            "33       21\n",
            "15       20\n",
            "17       19\n",
            "14        1\n",
            "Name: NativeCountry, dtype: int64\n",
            "\n",
            " \n",
            "\n",
            "2    15784\n",
            "4    15374\n",
            "0     8025\n",
            "5     6408\n",
            "3     2657\n",
            "1      594\n",
            "Name: Education, dtype: int64\n",
            "\n",
            " \n",
            "\n",
            "0    19716\n",
            "1    12583\n",
            "3     7581\n",
            "4     5125\n",
            "5     2331\n",
            "2     1506\n",
            "Name: Relationship, dtype: int64\n",
            "\n",
            " \n",
            "\n",
            "0    48842\n",
            "Name: MaritalStatus, dtype: int64\n",
            "\n",
            " \n",
            "\n",
            "9     6172\n",
            "2     6112\n",
            "3     6086\n",
            "0     5611\n",
            "12    5504\n",
            "7     4923\n",
            "6     3022\n",
            "10    2809\n",
            "14    2355\n",
            "5     2072\n",
            "4     1490\n",
            "13    1446\n",
            "11     983\n",
            "8      242\n",
            "1       15\n",
            "Name: Occupation, dtype: int64\n",
            "\n",
            " \n",
            "\n",
            "3    36705\n",
            "5     3862\n",
            "1     3136\n",
            "6     1981\n",
            "4     1695\n",
            "0     1432\n",
            "7       21\n",
            "2       10\n",
            "Name: WorkingClass, dtype: int64\n",
            "\n",
            " \n",
            "\n",
            "4    41762\n",
            "2     4685\n",
            "1     1519\n",
            "0      470\n",
            "3      406\n",
            "Name: Race, dtype: int64\n",
            "\n",
            " \n",
            "\n"
          ]
        }
      ]
    },
    {
      "cell_type": "markdown",
      "source": [
        "from the above output we can observe that there are missing values in fields of **occupation** and **WorkingClass**, so lets \n",
        "**handle the missing values**. we will replace the **?** with **mode value**"
      ],
      "metadata": {
        "id": "33M6AExUMAuG"
      }
    },
    {
      "cell_type": "code",
      "source": [
        "df[\"WorkingClass\"]= df[\"WorkingClass\"].str.replace('?','Private')\n",
        "df[\"Occupation\"]= df[\"Occupation\"].str.replace('?', 'Prof-specialty ')\n",
        "df['NativeCountry']=df['NativeCountry'].str.replace('?','United-States')"
      ],
      "metadata": {
        "colab": {
          "base_uri": "https://localhost:8080/"
        },
        "id": "qfkhIOm7L_5P",
        "outputId": "3d971f97-f7f9-452b-f255-263e97a06235"
      },
      "execution_count": null,
      "outputs": [
        {
          "output_type": "stream",
          "name": "stderr",
          "text": [
            "/usr/local/lib/python3.7/dist-packages/ipykernel_launcher.py:1: FutureWarning: The default value of regex will change from True to False in a future version. In addition, single character regular expressions will *not* be treated as literal strings when regex=True.\n",
            "  \"\"\"Entry point for launching an IPython kernel.\n",
            "/usr/local/lib/python3.7/dist-packages/ipykernel_launcher.py:2: FutureWarning: The default value of regex will change from True to False in a future version. In addition, single character regular expressions will *not* be treated as literal strings when regex=True.\n",
            "  \n",
            "/usr/local/lib/python3.7/dist-packages/ipykernel_launcher.py:3: FutureWarning: The default value of regex will change from True to False in a future version. In addition, single character regular expressions will *not* be treated as literal strings when regex=True.\n",
            "  This is separate from the ipykernel package so we can avoid doing imports until\n"
          ]
        }
      ]
    },
    {
      "cell_type": "code",
      "source": [
        "#the data in education field can be sorted by putting people from all schooling levels under same category\n",
        "df['Education'].replace(['11th','10th','7th-8th','9th','12th','5th-6th','1st-4th','Preschool'],'school', inplace=True)\n",
        "df['Education'].replace(['Assoc-voc','Assoc-acdm','Some-college','Prof-school'],'higher', inplace=True)"
      ],
      "metadata": {
        "id": "6KAg5GY0PAda"
      },
      "execution_count": null,
      "outputs": []
    },
    {
      "cell_type": "code",
      "source": [
        "#income column\n",
        "df['Income'].replace({ \"<=50K\":0, \">50K\":1}, inplace=True)"
      ],
      "metadata": {
        "id": "ptoOegykRyaL"
      },
      "execution_count": null,
      "outputs": []
    },
    {
      "cell_type": "code",
      "source": [
        "from sklearn.preprocessing import LabelEncoder"
      ],
      "metadata": {
        "id": "whwFUcAKVzUB"
      },
      "execution_count": null,
      "outputs": []
    },
    {
      "cell_type": "code",
      "source": [
        "df= df.apply(LabelEncoder().fit_transform)\n",
        "df.head()"
      ],
      "metadata": {
        "colab": {
          "base_uri": "https://localhost:8080/",
          "height": 206
        },
        "id": "2R1nZaZVWE1r",
        "outputId": "2a6b20fd-1382-4351-ea67-af073c84eaff"
      },
      "execution_count": null,
      "outputs": [
        {
          "output_type": "execute_result",
          "data": {
            "text/plain": [
              "   Age  Gender  WorkingClass  Education  MaritalStatus  Occupation  \\\n",
              "0    8       1             3          5              0           6   \n",
              "1   21       1             3          2              0           4   \n",
              "2   11       1             1          4              0          11   \n",
              "3   27       1             3          4              0           6   \n",
              "4    1       0             3          4              0          10   \n",
              "\n",
              "   Relationship  Race  NativeCountry  Income  \n",
              "0             3     2             38       0  \n",
              "1             0     4             38       0  \n",
              "2             0     4             38       1  \n",
              "3             0     2             38       1  \n",
              "4             3     4             38       0  "
            ],
            "text/html": [
              "\n",
              "  <div id=\"df-b3b32d87-b583-4122-847b-39b3871503e1\">\n",
              "    <div class=\"colab-df-container\">\n",
              "      <div>\n",
              "<style scoped>\n",
              "    .dataframe tbody tr th:only-of-type {\n",
              "        vertical-align: middle;\n",
              "    }\n",
              "\n",
              "    .dataframe tbody tr th {\n",
              "        vertical-align: top;\n",
              "    }\n",
              "\n",
              "    .dataframe thead th {\n",
              "        text-align: right;\n",
              "    }\n",
              "</style>\n",
              "<table border=\"1\" class=\"dataframe\">\n",
              "  <thead>\n",
              "    <tr style=\"text-align: right;\">\n",
              "      <th></th>\n",
              "      <th>Age</th>\n",
              "      <th>Gender</th>\n",
              "      <th>WorkingClass</th>\n",
              "      <th>Education</th>\n",
              "      <th>MaritalStatus</th>\n",
              "      <th>Occupation</th>\n",
              "      <th>Relationship</th>\n",
              "      <th>Race</th>\n",
              "      <th>NativeCountry</th>\n",
              "      <th>Income</th>\n",
              "    </tr>\n",
              "  </thead>\n",
              "  <tbody>\n",
              "    <tr>\n",
              "      <th>0</th>\n",
              "      <td>8</td>\n",
              "      <td>1</td>\n",
              "      <td>3</td>\n",
              "      <td>5</td>\n",
              "      <td>0</td>\n",
              "      <td>6</td>\n",
              "      <td>3</td>\n",
              "      <td>2</td>\n",
              "      <td>38</td>\n",
              "      <td>0</td>\n",
              "    </tr>\n",
              "    <tr>\n",
              "      <th>1</th>\n",
              "      <td>21</td>\n",
              "      <td>1</td>\n",
              "      <td>3</td>\n",
              "      <td>2</td>\n",
              "      <td>0</td>\n",
              "      <td>4</td>\n",
              "      <td>0</td>\n",
              "      <td>4</td>\n",
              "      <td>38</td>\n",
              "      <td>0</td>\n",
              "    </tr>\n",
              "    <tr>\n",
              "      <th>2</th>\n",
              "      <td>11</td>\n",
              "      <td>1</td>\n",
              "      <td>1</td>\n",
              "      <td>4</td>\n",
              "      <td>0</td>\n",
              "      <td>11</td>\n",
              "      <td>0</td>\n",
              "      <td>4</td>\n",
              "      <td>38</td>\n",
              "      <td>1</td>\n",
              "    </tr>\n",
              "    <tr>\n",
              "      <th>3</th>\n",
              "      <td>27</td>\n",
              "      <td>1</td>\n",
              "      <td>3</td>\n",
              "      <td>4</td>\n",
              "      <td>0</td>\n",
              "      <td>6</td>\n",
              "      <td>0</td>\n",
              "      <td>2</td>\n",
              "      <td>38</td>\n",
              "      <td>1</td>\n",
              "    </tr>\n",
              "    <tr>\n",
              "      <th>4</th>\n",
              "      <td>1</td>\n",
              "      <td>0</td>\n",
              "      <td>3</td>\n",
              "      <td>4</td>\n",
              "      <td>0</td>\n",
              "      <td>10</td>\n",
              "      <td>3</td>\n",
              "      <td>4</td>\n",
              "      <td>38</td>\n",
              "      <td>0</td>\n",
              "    </tr>\n",
              "  </tbody>\n",
              "</table>\n",
              "</div>\n",
              "      <button class=\"colab-df-convert\" onclick=\"convertToInteractive('df-b3b32d87-b583-4122-847b-39b3871503e1')\"\n",
              "              title=\"Convert this dataframe to an interactive table.\"\n",
              "              style=\"display:none;\">\n",
              "        \n",
              "  <svg xmlns=\"http://www.w3.org/2000/svg\" height=\"24px\"viewBox=\"0 0 24 24\"\n",
              "       width=\"24px\">\n",
              "    <path d=\"M0 0h24v24H0V0z\" fill=\"none\"/>\n",
              "    <path d=\"M18.56 5.44l.94 2.06.94-2.06 2.06-.94-2.06-.94-.94-2.06-.94 2.06-2.06.94zm-11 1L8.5 8.5l.94-2.06 2.06-.94-2.06-.94L8.5 2.5l-.94 2.06-2.06.94zm10 10l.94 2.06.94-2.06 2.06-.94-2.06-.94-.94-2.06-.94 2.06-2.06.94z\"/><path d=\"M17.41 7.96l-1.37-1.37c-.4-.4-.92-.59-1.43-.59-.52 0-1.04.2-1.43.59L10.3 9.45l-7.72 7.72c-.78.78-.78 2.05 0 2.83L4 21.41c.39.39.9.59 1.41.59.51 0 1.02-.2 1.41-.59l7.78-7.78 2.81-2.81c.8-.78.8-2.07 0-2.86zM5.41 20L4 18.59l7.72-7.72 1.47 1.35L5.41 20z\"/>\n",
              "  </svg>\n",
              "      </button>\n",
              "      \n",
              "  <style>\n",
              "    .colab-df-container {\n",
              "      display:flex;\n",
              "      flex-wrap:wrap;\n",
              "      gap: 12px;\n",
              "    }\n",
              "\n",
              "    .colab-df-convert {\n",
              "      background-color: #E8F0FE;\n",
              "      border: none;\n",
              "      border-radius: 50%;\n",
              "      cursor: pointer;\n",
              "      display: none;\n",
              "      fill: #1967D2;\n",
              "      height: 32px;\n",
              "      padding: 0 0 0 0;\n",
              "      width: 32px;\n",
              "    }\n",
              "\n",
              "    .colab-df-convert:hover {\n",
              "      background-color: #E2EBFA;\n",
              "      box-shadow: 0px 1px 2px rgba(60, 64, 67, 0.3), 0px 1px 3px 1px rgba(60, 64, 67, 0.15);\n",
              "      fill: #174EA6;\n",
              "    }\n",
              "\n",
              "    [theme=dark] .colab-df-convert {\n",
              "      background-color: #3B4455;\n",
              "      fill: #D2E3FC;\n",
              "    }\n",
              "\n",
              "    [theme=dark] .colab-df-convert:hover {\n",
              "      background-color: #434B5C;\n",
              "      box-shadow: 0px 1px 3px 1px rgba(0, 0, 0, 0.15);\n",
              "      filter: drop-shadow(0px 1px 2px rgba(0, 0, 0, 0.3));\n",
              "      fill: #FFFFFF;\n",
              "    }\n",
              "  </style>\n",
              "\n",
              "      <script>\n",
              "        const buttonEl =\n",
              "          document.querySelector('#df-b3b32d87-b583-4122-847b-39b3871503e1 button.colab-df-convert');\n",
              "        buttonEl.style.display =\n",
              "          google.colab.kernel.accessAllowed ? 'block' : 'none';\n",
              "\n",
              "        async function convertToInteractive(key) {\n",
              "          const element = document.querySelector('#df-b3b32d87-b583-4122-847b-39b3871503e1');\n",
              "          const dataTable =\n",
              "            await google.colab.kernel.invokeFunction('convertToInteractive',\n",
              "                                                     [key], {});\n",
              "          if (!dataTable) return;\n",
              "\n",
              "          const docLinkHtml = 'Like what you see? Visit the ' +\n",
              "            '<a target=\"_blank\" href=https://colab.research.google.com/notebooks/data_table.ipynb>data table notebook</a>'\n",
              "            + ' to learn more about interactive tables.';\n",
              "          element.innerHTML = '';\n",
              "          dataTable['output_type'] = 'display_data';\n",
              "          await google.colab.output.renderOutput(dataTable, element);\n",
              "          const docLink = document.createElement('div');\n",
              "          docLink.innerHTML = docLinkHtml;\n",
              "          element.appendChild(docLink);\n",
              "        }\n",
              "      </script>\n",
              "    </div>\n",
              "  </div>\n",
              "  "
            ]
          },
          "metadata": {},
          "execution_count": 39
        }
      ]
    },
    {
      "cell_type": "code",
      "source": [
        "df.drop(\"MaritalStatus\",axis=1,inplace=True)"
      ],
      "metadata": {
        "id": "g03OXhuoXIsV"
      },
      "execution_count": null,
      "outputs": []
    },
    {
      "cell_type": "code",
      "source": [
        "import matplotlib.pyplot as plt\n",
        "plt.figure(figsize=(16,7))\n",
        "sns.heatmap(df.corr(), annot=True)"
      ],
      "metadata": {
        "colab": {
          "base_uri": "https://localhost:8080/",
          "height": 449
        },
        "id": "h3XDvMELWSHu",
        "outputId": "de5c73fa-06db-4ef1-cd71-3e7d4495545d"
      },
      "execution_count": null,
      "outputs": [
        {
          "output_type": "execute_result",
          "data": {
            "text/plain": [
              "<matplotlib.axes._subplots.AxesSubplot at 0x7f9b73fccd10>"
            ]
          },
          "metadata": {},
          "execution_count": 47
        },
        {
          "output_type": "display_data",
          "data": {
            "text/plain": [
              "<Figure size 1152x504 with 2 Axes>"
            ],
            "image/png": "[encoded data removed]"
          },
          "metadata": {
            "needs_background": "light"
          }
        }
      ]
    },
    {
      "cell_type": "markdown",
      "source": [
        "from the above heatmap we can observe tha features like WorkingClass, Race do not have much impact on Income"
      ],
      "metadata": {
        "id": "gpMX0WTcXloP"
      }
    },
    {
      "cell_type": "markdown",
      "source": [
        "**Train Test Split**"
      ],
      "metadata": {
        "id": "OHdAagxkYUza"
      }
    },
    {
      "cell_type": "code",
      "source": [
        "X= df[['Age','Gender','WorkingClass','Education','Occupation','Relationship','Race','NativeCountry']].values\n",
        "y= df['Income'].values"
      ],
      "metadata": {
        "id": "Tuux4kXBX5jb"
      },
      "execution_count": null,
      "outputs": []
    },
    {
      "cell_type": "code",
      "source": [
        "from sklearn.model_selection import train_test_split\n",
        "X_train, X_test, y_train, y_test= train_test_split(X,y,test_size=0.33, random_state=101)"
      ],
      "metadata": {
        "id": "bHXyQB-lZL4a"
      },
      "execution_count": null,
      "outputs": []
    },
    {
      "cell_type": "code",
      "source": [
        "from sklearn.preprocessing import StandardScaler\n",
        "sc= StandardScaler()\n",
        "X_train= sc.fit_transform(X_train)\n",
        "X_test=sc.transform(X_test)"
      ],
      "metadata": {
        "id": "X0e3syVFZfDZ"
      },
      "execution_count": null,
      "outputs": []
    },
    {
      "cell_type": "markdown",
      "source": [
        "**Now we will try to train our data with different techniques**"
      ],
      "metadata": {
        "id": "w1cmx3U1aF4D"
      }
    },
    {
      "cell_type": "code",
      "source": [
        "from sklearn.metrics import confusion_matrix, classification_report, accuracy_score"
      ],
      "metadata": {
        "id": "BtoFFh4DaNRo"
      },
      "execution_count": null,
      "outputs": []
    },
    {
      "cell_type": "markdown",
      "source": [
        "**1. Logistic Regression**"
      ],
      "metadata": {
        "id": "B0zrE8uHadpl"
      }
    },
    {
      "cell_type": "code",
      "source": [
        "from sklearn.linear_model import LogisticRegression\n",
        "lr= LogisticRegression()\n",
        "lr.fit(X_train,y_train)\n",
        "prediction= lr.predict(X_test)\n",
        "accuracy_score(y_test,prediction)"
      ],
      "metadata": {
        "colab": {
          "base_uri": "https://localhost:8080/"
        },
        "id": "Tqm24j2PadPf",
        "outputId": "5d69b13d-9c2e-4d35-8727-28827bdcd918"
      },
      "execution_count": null,
      "outputs": [
        {
          "output_type": "execute_result",
          "data": {
            "text/plain": [
              "0.7646109939198412"
            ]
          },
          "metadata": {},
          "execution_count": 60
        }
      ]
    },
    {
      "cell_type": "code",
      "source": [
        "print(classification_report(y_test,prediction))"
      ],
      "metadata": {
        "colab": {
          "base_uri": "https://localhost:8080/"
        },
        "id": "s2-GIK3Tb9hv",
        "outputId": "aac7455f-e2b7-40c7-9716-9c93fd0198f6"
      },
      "execution_count": null,
      "outputs": [
        {
          "output_type": "stream",
          "name": "stdout",
          "text": [
            "              precision    recall  f1-score   support\n",
            "\n",
            "           0       0.89      0.66      0.76     12218\n",
            "           1       0.41      0.74      0.53      3900\n",
            "\n",
            "    accuracy                           0.68     16118\n",
            "   macro avg       0.65      0.70      0.64     16118\n",
            "weighted avg       0.77      0.68      0.70     16118\n",
            "\n"
          ]
        }
      ]
    }
  ]
}