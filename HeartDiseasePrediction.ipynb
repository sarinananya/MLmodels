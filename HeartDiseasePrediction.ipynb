{
  "nbformat": 4,
  "nbformat_minor": 0,
  "metadata": {
    "colab": {
      "name": "HeartDiseasePrediction.ipynb",
      "provenance": [],
      "authorship_tag": "ABX9TyPTZbSpjjq3VTIrEqE0jc3f",
      "include_colab_link": true
    },
    "kernelspec": {
      "name": "python3",
      "display_name": "Python 3"
    },
    "language_info": {
      "name": "python"
    }
  },
  "cells": [
    {
      "cell_type": "markdown",
      "metadata": {
        "id": "view-in-github",
        "colab_type": "text"
      },
      "source": [
        "<a href=\"https://colab.research.google.com/github/sarinananya/MLmodels/blob/main/HeartDiseasePrediction.ipynb\" target=\"_parent\"><img src=\"https://colab.research.google.com/assets/colab-badge.svg\" alt=\"Open In Colab\"/></a>"
      ]
    },
    {
      "cell_type": "markdown",
      "source": [
        "# **Heart Disease Prediction Model**"
      ],
      "metadata": {
        "id": "JJY7p57IPejo"
      }
    },
    {
      "cell_type": "markdown",
      "source": [
        "**Step 1**: *Importing libraries and loading the dataset*"
      ],
      "metadata": {
        "id": "xGdj3h-MPWUP"
      }
    },
    {
      "cell_type": "code",
      "source": [
        "import pandas as pd\n",
        "import numpy as np\n",
        "\n",
        "heart_df= pd.read_csv('https://www.dropbox.com/s/ltksjtb54wrov5q/HeartDisease.csv?dl=1')"
      ],
      "metadata": {
        "id": "rfLC0tuHQuru"
      },
      "execution_count": 1,
      "outputs": []
    },
    {
      "cell_type": "markdown",
      "source": [
        "**Step 2**: *Exploratory data analysis*"
      ],
      "metadata": {
        "id": "qnapICE6RH15"
      }
    },
    {
      "cell_type": "code",
      "source": [
        "heart_df.head(6)"
      ],
      "metadata": {
        "colab": {
          "base_uri": "https://localhost:8080/",
          "height": 237
        },
        "id": "lO9zsbD0Q_c5",
        "outputId": "a1ea2508-1ac7-47d3-c0d0-1df718fa2d3a"
      },
      "execution_count": null,
      "outputs": [
        {
          "output_type": "execute_result",
          "data": {
            "text/plain": [
              "   age  sex  cp  trestbps  chol  fbs  restecg  thalach  exang  oldpeak  slope  \\\n",
              "0   52    1   0       125   212    0        1      168      0      1.0      2   \n",
              "1   53    1   0       140   203    1        0      155      1      3.1      0   \n",
              "2   70    1   0       145   174    0        1      125      1      2.6      0   \n",
              "3   61    1   0       148   203    0        1      161      0      0.0      2   \n",
              "4   62    0   0       138   294    1        1      106      0      1.9      1   \n",
              "5   58    0   0       100   248    0        0      122      0      1.0      1   \n",
              "\n",
              "   ca  thal  target  \n",
              "0   2     3       0  \n",
              "1   0     3       0  \n",
              "2   0     3       0  \n",
              "3   1     3       0  \n",
              "4   3     2       0  \n",
              "5   0     2       1  "
            ],
            "text/html": [
              "\n",
              "  <div id=\"df-b536bd10-a286-49ee-b916-506ec19dfcf8\">\n",
              "    <div class=\"colab-df-container\">\n",
              "      <div>\n",
              "<style scoped>\n",
              "    .dataframe tbody tr th:only-of-type {\n",
              "        vertical-align: middle;\n",
              "    }\n",
              "\n",
              "    .dataframe tbody tr th {\n",
              "        vertical-align: top;\n",
              "    }\n",
              "\n",
              "    .dataframe thead th {\n",
              "        text-align: right;\n",
              "    }\n",
              "</style>\n",
              "<table border=\"1\" class=\"dataframe\">\n",
              "  <thead>\n",
              "    <tr style=\"text-align: right;\">\n",
              "      <th></th>\n",
              "      <th>age</th>\n",
              "      <th>sex</th>\n",
              "      <th>cp</th>\n",
              "      <th>trestbps</th>\n",
              "      <th>chol</th>\n",
              "      <th>fbs</th>\n",
              "      <th>restecg</th>\n",
              "      <th>thalach</th>\n",
              "      <th>exang</th>\n",
              "      <th>oldpeak</th>\n",
              "      <th>slope</th>\n",
              "      <th>ca</th>\n",
              "      <th>thal</th>\n",
              "      <th>target</th>\n",
              "    </tr>\n",
              "  </thead>\n",
              "  <tbody>\n",
              "    <tr>\n",
              "      <th>0</th>\n",
              "      <td>52</td>\n",
              "      <td>1</td>\n",
              "      <td>0</td>\n",
              "      <td>125</td>\n",
              "      <td>212</td>\n",
              "      <td>0</td>\n",
              "      <td>1</td>\n",
              "      <td>168</td>\n",
              "      <td>0</td>\n",
              "      <td>1.0</td>\n",
              "      <td>2</td>\n",
              "      <td>2</td>\n",
              "      <td>3</td>\n",
              "      <td>0</td>\n",
              "    </tr>\n",
              "    <tr>\n",
              "      <th>1</th>\n",
              "      <td>53</td>\n",
              "      <td>1</td>\n",
              "      <td>0</td>\n",
              "      <td>140</td>\n",
              "      <td>203</td>\n",
              "      <td>1</td>\n",
              "      <td>0</td>\n",
              "      <td>155</td>\n",
              "      <td>1</td>\n",
              "      <td>3.1</td>\n",
              "      <td>0</td>\n",
              "      <td>0</td>\n",
              "      <td>3</td>\n",
              "      <td>0</td>\n",
              "    </tr>\n",
              "    <tr>\n",
              "      <th>2</th>\n",
              "      <td>70</td>\n",
              "      <td>1</td>\n",
              "      <td>0</td>\n",
              "      <td>145</td>\n",
              "      <td>174</td>\n",
              "      <td>0</td>\n",
              "      <td>1</td>\n",
              "      <td>125</td>\n",
              "      <td>1</td>\n",
              "      <td>2.6</td>\n",
              "      <td>0</td>\n",
              "      <td>0</td>\n",
              "      <td>3</td>\n",
              "      <td>0</td>\n",
              "    </tr>\n",
              "    <tr>\n",
              "      <th>3</th>\n",
              "      <td>61</td>\n",
              "      <td>1</td>\n",
              "      <td>0</td>\n",
              "      <td>148</td>\n",
              "      <td>203</td>\n",
              "      <td>0</td>\n",
              "      <td>1</td>\n",
              "      <td>161</td>\n",
              "      <td>0</td>\n",
              "      <td>0.0</td>\n",
              "      <td>2</td>\n",
              "      <td>1</td>\n",
              "      <td>3</td>\n",
              "      <td>0</td>\n",
              "    </tr>\n",
              "    <tr>\n",
              "      <th>4</th>\n",
              "      <td>62</td>\n",
              "      <td>0</td>\n",
              "      <td>0</td>\n",
              "      <td>138</td>\n",
              "      <td>294</td>\n",
              "      <td>1</td>\n",
              "      <td>1</td>\n",
              "      <td>106</td>\n",
              "      <td>0</td>\n",
              "      <td>1.9</td>\n",
              "      <td>1</td>\n",
              "      <td>3</td>\n",
              "      <td>2</td>\n",
              "      <td>0</td>\n",
              "    </tr>\n",
              "    <tr>\n",
              "      <th>5</th>\n",
              "      <td>58</td>\n",
              "      <td>0</td>\n",
              "      <td>0</td>\n",
              "      <td>100</td>\n",
              "      <td>248</td>\n",
              "      <td>0</td>\n",
              "      <td>0</td>\n",
              "      <td>122</td>\n",
              "      <td>0</td>\n",
              "      <td>1.0</td>\n",
              "      <td>1</td>\n",
              "      <td>0</td>\n",
              "      <td>2</td>\n",
              "      <td>1</td>\n",
              "    </tr>\n",
              "  </tbody>\n",
              "</table>\n",
              "</div>\n",
              "      <button class=\"colab-df-convert\" onclick=\"convertToInteractive('df-b536bd10-a286-49ee-b916-506ec19dfcf8')\"\n",
              "              title=\"Convert this dataframe to an interactive table.\"\n",
              "              style=\"display:none;\">\n",
              "        \n",
              "  <svg xmlns=\"http://www.w3.org/2000/svg\" height=\"24px\"viewBox=\"0 0 24 24\"\n",
              "       width=\"24px\">\n",
              "    <path d=\"M0 0h24v24H0V0z\" fill=\"none\"/>\n",
              "    <path d=\"M18.56 5.44l.94 2.06.94-2.06 2.06-.94-2.06-.94-.94-2.06-.94 2.06-2.06.94zm-11 1L8.5 8.5l.94-2.06 2.06-.94-2.06-.94L8.5 2.5l-.94 2.06-2.06.94zm10 10l.94 2.06.94-2.06 2.06-.94-2.06-.94-.94-2.06-.94 2.06-2.06.94z\"/><path d=\"M17.41 7.96l-1.37-1.37c-.4-.4-.92-.59-1.43-.59-.52 0-1.04.2-1.43.59L10.3 9.45l-7.72 7.72c-.78.78-.78 2.05 0 2.83L4 21.41c.39.39.9.59 1.41.59.51 0 1.02-.2 1.41-.59l7.78-7.78 2.81-2.81c.8-.78.8-2.07 0-2.86zM5.41 20L4 18.59l7.72-7.72 1.47 1.35L5.41 20z\"/>\n",
              "  </svg>\n",
              "      </button>\n",
              "      \n",
              "  <style>\n",
              "    .colab-df-container {\n",
              "      display:flex;\n",
              "      flex-wrap:wrap;\n",
              "      gap: 12px;\n",
              "    }\n",
              "\n",
              "    .colab-df-convert {\n",
              "      background-color: #E8F0FE;\n",
              "      border: none;\n",
              "      border-radius: 50%;\n",
              "      cursor: pointer;\n",
              "      display: none;\n",
              "      fill: #1967D2;\n",
              "      height: 32px;\n",
              "      padding: 0 0 0 0;\n",
              "      width: 32px;\n",
              "    }\n",
              "\n",
              "    .colab-df-convert:hover {\n",
              "      background-color: #E2EBFA;\n",
              "      box-shadow: 0px 1px 2px rgba(60, 64, 67, 0.3), 0px 1px 3px 1px rgba(60, 64, 67, 0.15);\n",
              "      fill: #174EA6;\n",
              "    }\n",
              "\n",
              "    [theme=dark] .colab-df-convert {\n",
              "      background-color: #3B4455;\n",
              "      fill: #D2E3FC;\n",
              "    }\n",
              "\n",
              "    [theme=dark] .colab-df-convert:hover {\n",
              "      background-color: #434B5C;\n",
              "      box-shadow: 0px 1px 3px 1px rgba(0, 0, 0, 0.15);\n",
              "      filter: drop-shadow(0px 1px 2px rgba(0, 0, 0, 0.3));\n",
              "      fill: #FFFFFF;\n",
              "    }\n",
              "  </style>\n",
              "\n",
              "      <script>\n",
              "        const buttonEl =\n",
              "          document.querySelector('#df-b536bd10-a286-49ee-b916-506ec19dfcf8 button.colab-df-convert');\n",
              "        buttonEl.style.display =\n",
              "          google.colab.kernel.accessAllowed ? 'block' : 'none';\n",
              "\n",
              "        async function convertToInteractive(key) {\n",
              "          const element = document.querySelector('#df-b536bd10-a286-49ee-b916-506ec19dfcf8');\n",
              "          const dataTable =\n",
              "            await google.colab.kernel.invokeFunction('convertToInteractive',\n",
              "                                                     [key], {});\n",
              "          if (!dataTable) return;\n",
              "\n",
              "          const docLinkHtml = 'Like what you see? Visit the ' +\n",
              "            '<a target=\"_blank\" href=https://colab.research.google.com/notebooks/data_table.ipynb>data table notebook</a>'\n",
              "            + ' to learn more about interactive tables.';\n",
              "          element.innerHTML = '';\n",
              "          dataTable['output_type'] = 'display_data';\n",
              "          await google.colab.output.renderOutput(dataTable, element);\n",
              "          const docLink = document.createElement('div');\n",
              "          docLink.innerHTML = docLinkHtml;\n",
              "          element.appendChild(docLink);\n",
              "        }\n",
              "      </script>\n",
              "    </div>\n",
              "  </div>\n",
              "  "
            ]
          },
          "metadata": {},
          "execution_count": 4
        }
      ]
    },
    {
      "cell_type": "markdown",
      "source": [
        "**Observation**\n",
        "1. {age, sex, cp,\ttrestbps,\tchol,\tfbs,\trestecg,\tthalach,exang,oldpeak,\tslope,\tca,\tthal} are all **independent variables** and {target} is a **dependent variable**\n",
        "2. About the dataset\n",
        "\n",
        "  *   cp- chest pain\n",
        "  *   Trestbps— resting blood pressure; normal range: 120/80\n",
        "  *   Chol— serum cholesterol; normal < 170 mg/dL\n",
        "  *   Fbs— fasting blood sugar\n",
        "  *   Restecg— resting electrocardiographic results\n",
        "  *   Thalach— maximum heart rate achieved; value:220 minus your age\n",
        "  *   Exang— exercise-induced angina; agnia is a chest pain caused due to reduced blood flow to heart\n",
        "  *   **T**arget: 0 means no disease, 1 means has a disease\n",
        "\n",
        "\n",
        "\n",
        "\n",
        "\n",
        "\n",
        "\n"
      ],
      "metadata": {
        "id": "3me9eVvBRVYP"
      }
    },
    {
      "cell_type": "code",
      "source": [
        "heart_df.info()"
      ],
      "metadata": {
        "id": "-X7mvKfBVQxX"
      },
      "execution_count": null,
      "outputs": []
    },
    {
      "cell_type": "markdown",
      "source": [
        "**observation**: we have 13 integer type values and one float value i.e. oldpeak"
      ],
      "metadata": {
        "id": "kIkc0wRNVb7U"
      }
    },
    {
      "cell_type": "code",
      "source": [
        "heart_df.isnull().sum()"
      ],
      "metadata": {
        "id": "L65pBCouVnoB"
      },
      "execution_count": null,
      "outputs": []
    },
    {
      "cell_type": "markdown",
      "source": [
        "**observation**: the dataset contains no null values"
      ],
      "metadata": {
        "id": "yiEz5mSQV3Q_"
      }
    },
    {
      "cell_type": "code",
      "source": [
        "import seaborn as sns\n",
        "sns.set_style(\"darkgrid\",{'grid.color':'0.4'})\n",
        "sns.countplot(heart_df['target'])"
      ],
      "metadata": {
        "colab": {
          "base_uri": "https://localhost:8080/",
          "height": 351
        },
        "id": "Ml5mOlc4WA23",
        "outputId": "cac67328-7915-402a-c19a-601b81ce1210"
      },
      "execution_count": 2,
      "outputs": [
        {
          "output_type": "stream",
          "name": "stderr",
          "text": [
            "/usr/local/lib/python3.7/dist-packages/seaborn/_decorators.py:43: FutureWarning: Pass the following variable as a keyword arg: x. From version 0.12, the only valid positional argument will be `data`, and passing other arguments without an explicit keyword will result in an error or misinterpretation.\n",
            "  FutureWarning\n"
          ]
        },
        {
          "output_type": "execute_result",
          "data": {
            "text/plain": [
              "<matplotlib.axes._subplots.AxesSubplot at 0x7f8d9b373f90>"
            ]
          },
          "metadata": {},
          "execution_count": 2
        },
        {
          "output_type": "display_data",
          "data": {
            "text/plain": [
              "<Figure size 432x288 with 1 Axes>"
            ],
            "image/png": "[encoded data removed]"
          },
          "metadata": {}
        }
      ]
    },
    {
      "cell_type": "markdown",
      "source": [
        "**observation**: the dataset is not imbalanced, which implies over/under sampling not required"
      ],
      "metadata": {
        "id": "xQLaRR4QXbWM"
      }
    },
    {
      "cell_type": "code",
      "source": [
        "import matplotlib.pyplot as plt\n",
        "heart_df.hist(figsize=(12,8), color='#FF99FF')"
      ],
      "metadata": {
        "colab": {
          "base_uri": "https://localhost:8080/",
          "height": 794
        },
        "id": "OhhE7u3kY4zu",
        "outputId": "5b7f45a6-531b-441f-e344-25e5c46cb5e2"
      },
      "execution_count": 3,
      "outputs": [
        {
          "output_type": "execute_result",
          "data": {
            "text/plain": [
              "array([[<matplotlib.axes._subplots.AxesSubplot object at 0x7f8d9add8d50>,\n",
              "        <matplotlib.axes._subplots.AxesSubplot object at 0x7f8d9ada0310>,\n",
              "        <matplotlib.axes._subplots.AxesSubplot object at 0x7f8d9ad58910>,\n",
              "        <matplotlib.axes._subplots.AxesSubplot object at 0x7f8d9ad0ef10>],\n",
              "       [<matplotlib.axes._subplots.AxesSubplot object at 0x7f8d9acd1550>,\n",
              "        <matplotlib.axes._subplots.AxesSubplot object at 0x7f8d9ad69a10>,\n",
              "        <matplotlib.axes._subplots.AxesSubplot object at 0x7f8d9acbead0>,\n",
              "        <matplotlib.axes._subplots.AxesSubplot object at 0x7f8d9ac6bb50>],\n",
              "       [<matplotlib.axes._subplots.AxesSubplot object at 0x7f8d9ac82090>,\n",
              "        <matplotlib.axes._subplots.AxesSubplot object at 0x7f8d9ac39790>,\n",
              "        <matplotlib.axes._subplots.AxesSubplot object at 0x7f8d9abb42d0>,\n",
              "        <matplotlib.axes._subplots.AxesSubplot object at 0x7f8d9ab6a8d0>],\n",
              "       [<matplotlib.axes._subplots.AxesSubplot object at 0x7f8d9ab22ed0>,\n",
              "        <matplotlib.axes._subplots.AxesSubplot object at 0x7f8d9aae6510>,\n",
              "        <matplotlib.axes._subplots.AxesSubplot object at 0x7f8d9aa9cb10>,\n",
              "        <matplotlib.axes._subplots.AxesSubplot object at 0x7f8d9aa61150>]],\n",
              "      dtype=object)"
            ]
          },
          "metadata": {},
          "execution_count": 3
        },
        {
          "output_type": "display_data",
          "data": {
            "text/plain": [
              "<Figure size 864x576 with 16 Axes>"
            ],
            "image/png": "[encoded data removed]"
          },
          "metadata": {}
        }
      ]
    },
    {
      "cell_type": "markdown",
      "source": [
        "**Analysing each feature individually**"
      ],
      "metadata": {
        "id": "En_ZpET9sGCM"
      }
    },
    {
      "cell_type": "markdown",
      "source": [
        "# 1. Age"
      ],
      "metadata": {
        "id": "4JuvUnAGsTo_"
      }
    },
    {
      "cell_type": "code",
      "source": [
        "#analysing age groups\n",
        "heart_df['age'].describe()"
      ],
      "metadata": {
        "id": "6-is1_ltZ5Zk",
        "colab": {
          "base_uri": "https://localhost:8080/"
        },
        "outputId": "45177d84-c452-4495-d9e5-81bd3d5ef9c6"
      },
      "execution_count": null,
      "outputs": [
        {
          "output_type": "execute_result",
          "data": {
            "text/plain": [
              "count    1025.000000\n",
              "mean       54.434146\n",
              "std         9.072290\n",
              "min        29.000000\n",
              "25%        48.000000\n",
              "50%        56.000000\n",
              "75%        61.000000\n",
              "max        77.000000\n",
              "Name: age, dtype: float64"
            ]
          },
          "metadata": {},
          "execution_count": 7
        }
      ]
    },
    {
      "cell_type": "markdown",
      "source": [
        "**observation**: *from the above output we saw that the minimum age is 29 and the maximum being 77, with the mean being 54, so lets group these ages in three different categories*"
      ],
      "metadata": {
        "id": "GmxkaAN4llYV"
      }
    },
    {
      "cell_type": "code",
      "source": [
        "Young_adults = heart_df[(heart_df.age>=29)&(heart_df.age<40)&(heart_df.target==1)]\n",
        "middle_aged = heart_df[(heart_df.age>=40)&(heart_df.age<55)&(heart_df.target==1)]\n",
        "old_adults = heart_df[(heart_df.age>55)&(heart_df.target==1)]"
      ],
      "metadata": {
        "id": "2CTgGNMnmBuj"
      },
      "execution_count": 5,
      "outputs": []
    },
    {
      "cell_type": "code",
      "source": [
        "\n",
        "data=[len(Young_adults),len(middle_aged),len(old_adults)]\n",
        "labels= ['Young_adults','middle_aged','old_adults']\n",
        "colors = sns.color_palette('pastel')[4:8]\n",
        "plt.pie(data, labels = labels, colors = colors, autopct='%.0f%%')\n",
        "plt.show()"
      ],
      "metadata": {
        "colab": {
          "base_uri": "https://localhost:8080/",
          "height": 248
        },
        "id": "Q5YTOYtmnHNp",
        "outputId": "1140e739-7fd4-4b12-fa97-99aabc46562e"
      },
      "execution_count": 6,
      "outputs": [
        {
          "output_type": "display_data",
          "data": {
            "text/plain": [
              "<Figure size 432x288 with 1 Axes>"
            ],
            "image/png": "[encoded data removed]"
          },
          "metadata": {}
        }
      ]
    },
    {
      "cell_type": "markdown",
      "source": [
        "**observation**:*according to this dataset maximum number of cardiovascular diseases are seen people in age range 40 to 55*"
      ],
      "metadata": {
        "id": "7OZTovn-pWFC"
      }
    },
    {
      "cell_type": "markdown",
      "source": [
        "# 2. Gender"
      ],
      "metadata": {
        "id": "D8Yi_hoDsYfA"
      }
    },
    {
      "cell_type": "code",
      "source": [
        "sns.set_style(\"darkgrid\",{'grid.color':'0.4'})\n",
        "sns.countplot(heart_df.sex.where(heart_df.target==1))"
      ],
      "metadata": {
        "colab": {
          "base_uri": "https://localhost:8080/",
          "height": 351
        },
        "id": "1arPEGMPqGh1",
        "outputId": "2d1cc02e-ab49-4d03-d409-94fe4e2c6b3b"
      },
      "execution_count": null,
      "outputs": [
        {
          "output_type": "stream",
          "name": "stderr",
          "text": [
            "/usr/local/lib/python3.7/dist-packages/seaborn/_decorators.py:43: FutureWarning: Pass the following variable as a keyword arg: x. From version 0.12, the only valid positional argument will be `data`, and passing other arguments without an explicit keyword will result in an error or misinterpretation.\n",
            "  FutureWarning\n"
          ]
        },
        {
          "output_type": "execute_result",
          "data": {
            "text/plain": [
              "<matplotlib.axes._subplots.AxesSubplot at 0x7f538e4ccd10>"
            ]
          },
          "metadata": {},
          "execution_count": 26
        },
        {
          "output_type": "display_data",
          "data": {
            "text/plain": [
              "<Figure size 432x288 with 1 Axes>"
            ],
            "image/png": "[encoded data removed]"
          },
          "metadata": {}
        }
      ]
    },
    {
      "cell_type": "markdown",
      "source": [
        "**observation**: *the above graph shows that males are more prone to heart diseases that females*"
      ],
      "metadata": {
        "id": "gNYCMvdkrq97"
      }
    },
    {
      "cell_type": "markdown",
      "source": [
        "# 3. Chest Pain"
      ],
      "metadata": {
        "id": "9E4TUZxTscUK"
      }
    },
    {
      "cell_type": "code",
      "source": [
        "heart_df['cp'].nunique()"
      ],
      "metadata": {
        "colab": {
          "base_uri": "https://localhost:8080/"
        },
        "id": "ucSXMHz2shkv",
        "outputId": "692fdb98-9c64-44f5-cab8-1a9195abbb42"
      },
      "execution_count": null,
      "outputs": [
        {
          "output_type": "execute_result",
          "data": {
            "text/plain": [
              "4"
            ]
          },
          "metadata": {},
          "execution_count": 30
        }
      ]
    },
    {
      "cell_type": "code",
      "source": [
        "sns.set_style(\"darkgrid\",{'grid.color':'0.4'})\n",
        "sns.countplot(heart_df.cp.where(heart_df.target==1))\n",
        "#0,1,2 and 3 are the levels of chest pains"
      ],
      "metadata": {
        "colab": {
          "base_uri": "https://localhost:8080/",
          "height": 351
        },
        "id": "TTUEWuEJsxSV",
        "outputId": "4b114673-8a33-4c12-aeb0-1c012dad594c"
      },
      "execution_count": null,
      "outputs": [
        {
          "output_type": "stream",
          "name": "stderr",
          "text": [
            "/usr/local/lib/python3.7/dist-packages/seaborn/_decorators.py:43: FutureWarning: Pass the following variable as a keyword arg: x. From version 0.12, the only valid positional argument will be `data`, and passing other arguments without an explicit keyword will result in an error or misinterpretation.\n",
            "  FutureWarning\n"
          ]
        },
        {
          "output_type": "execute_result",
          "data": {
            "text/plain": [
              "<matplotlib.axes._subplots.AxesSubplot at 0x7f538e40fd50>"
            ]
          },
          "metadata": {},
          "execution_count": 32
        },
        {
          "output_type": "display_data",
          "data": {
            "text/plain": [
              "<Figure size 432x288 with 1 Axes>"
            ],
            "image/png": "[encoded data removed]"
          },
          "metadata": {}
        }
      ]
    },
    {
      "cell_type": "markdown",
      "source": [
        "# **Feature Engineering**"
      ],
      "metadata": {
        "id": "oCtOWmBSEZbO"
      }
    },
    {
      "cell_type": "code",
      "source": [
        "x= heart_df[['age','sex','cp','trestbps','chol','fbs','restecg','thalach','exang','oldpeak','slope','ca','thal']]\n",
        "y= heart_df['target']"
      ],
      "metadata": {
        "id": "U_Rk7cWbEn36"
      },
      "execution_count": 8,
      "outputs": []
    },
    {
      "cell_type": "markdown",
      "source": [
        "# standard scaling"
      ],
      "metadata": {
        "id": "_6NnJG9tGB2d"
      }
    },
    {
      "cell_type": "code",
      "source": [
        "from sklearn.preprocessing import StandardScaler\n",
        "sc=StandardScaler()\n",
        "scaled_x= sc.fit_transform(x)"
      ],
      "metadata": {
        "id": "p9JSyOBYHQO9"
      },
      "execution_count": 18,
      "outputs": []
    },
    {
      "cell_type": "markdown",
      "source": [
        "# **Train Test Split**"
      ],
      "metadata": {
        "id": "5ExeCC6aHT7K"
      }
    },
    {
      "cell_type": "code",
      "source": [
        "from sklearn.model_selection import train_test_split\n",
        "x_train, x_test, y_train, y_test= train_test_split(scaled_x,y,test_size=0.33,random_state=2022)"
      ],
      "metadata": {
        "id": "q8vEYFjKHayT"
      },
      "execution_count": 20,
      "outputs": []
    },
    {
      "cell_type": "markdown",
      "source": [
        "**applying different machine learning algorithms to create the model**"
      ],
      "metadata": {
        "id": "rCxcT6l9IEMt"
      }
    },
    {
      "cell_type": "markdown",
      "source": [
        "# 1. KNN (k-nearest neighbours)"
      ],
      "metadata": {
        "id": "Cy5-6Z8ZITjj"
      }
    },
    {
      "cell_type": "code",
      "source": [
        "from sklearn.neighbors import KNeighborsClassifier\n",
        "knnModel= KNeighborsClassifier(n_neighbors = 5)\n",
        "knnModel.fit(x_train,y_train)"
      ],
      "metadata": {
        "colab": {
          "base_uri": "https://localhost:8080/"
        },
        "id": "_7-W-1nqIfN4",
        "outputId": "fa143305-5b87-4cab-a424-caf64a50cfc8"
      },
      "execution_count": 21,
      "outputs": [
        {
          "output_type": "execute_result",
          "data": {
            "text/plain": [
              "KNeighborsClassifier()"
            ]
          },
          "metadata": {},
          "execution_count": 21
        }
      ]
    },
    {
      "cell_type": "code",
      "source": [
        "y_pred= knnModel.predict(x_test)\n",
        "\n",
        "from sklearn.metrics import classification_report\n",
        "from sklearn.metrics import f1_score\n",
        "print(classification_report(y_test,y_pred))\n",
        "print(\"F1 Score:\")\n",
        "f1_score(y_test, y_pred)"
      ],
      "metadata": {
        "colab": {
          "base_uri": "https://localhost:8080/"
        },
        "id": "RbMiJLxdIwIs",
        "outputId": "96750e52-a651-447e-a191-c831ec271dd7"
      },
      "execution_count": 22,
      "outputs": [
        {
          "output_type": "stream",
          "name": "stdout",
          "text": [
            "              precision    recall  f1-score   support\n",
            "\n",
            "           0       0.85      0.93      0.89       167\n",
            "           1       0.92      0.84      0.88       172\n",
            "\n",
            "    accuracy                           0.88       339\n",
            "   macro avg       0.89      0.89      0.88       339\n",
            "weighted avg       0.89      0.88      0.88       339\n",
            "\n",
            "F1 Score:\n"
          ]
        },
        {
          "output_type": "execute_result",
          "data": {
            "text/plain": [
              "0.8814589665653495"
            ]
          },
          "metadata": {},
          "execution_count": 22
        }
      ]
    },
    {
      "cell_type": "markdown",
      "source": [
        "*The F1-score combines the precision and recall of a classifier into a single metric by taking their harmonic mean. F1-score: 2(P∗R)/P+R*\n",
        "*"
      ],
      "metadata": {
        "id": "wwRfQJBfJJRw"
      }
    },
    {
      "cell_type": "markdown",
      "source": [
        "F1 score\tInterpretation\n",
        "> 0.9- \t**Very good**   0.8 -0.9\t**Good**   0.5-0.8\t**OK**   < 0.5- \t**Not good**"
      ],
      "metadata": {
        "id": "atFsv94pJane"
      }
    },
    {
      "cell_type": "markdown",
      "source": [
        "Our model has a F1 score of 0.88 which is good"
      ],
      "metadata": {
        "id": "kX3QQh5QKP5Z"
      }
    },
    {
      "cell_type": "markdown",
      "source": [
        "# 2. Logistic Regression"
      ],
      "metadata": {
        "id": "N6uYy23nOfyt"
      }
    },
    {
      "cell_type": "code",
      "source": [
        "from sklearn.linear_model import LogisticRegression\n",
        "lrmodel= LogisticRegression()\n",
        "lrmodel.fit(x_train,y_train)"
      ],
      "metadata": {
        "colab": {
          "base_uri": "https://localhost:8080/"
        },
        "id": "X1zlCbdbOCtN",
        "outputId": "53957b5d-0fdb-46ac-bb3e-88454ef2bcc1"
      },
      "execution_count": 23,
      "outputs": [
        {
          "output_type": "execute_result",
          "data": {
            "text/plain": [
              "LogisticRegression()"
            ]
          },
          "metadata": {},
          "execution_count": 23
        }
      ]
    },
    {
      "cell_type": "code",
      "source": [
        "y_pred= lrmodel.predict(x_test)\n",
        "from sklearn.metrics import classification_report\n",
        "from sklearn.metrics import f1_score\n",
        "print(classification_report(y_test,y_pred))\n",
        "print(\"F1 Score:\")\n",
        "f1_score(y_test, y_pred)"
      ],
      "metadata": {
        "colab": {
          "base_uri": "https://localhost:8080/"
        },
        "id": "C73DYuvnOtoS",
        "outputId": "4561c1db-0b51-40e9-8503-84e96b1e9b7c"
      },
      "execution_count": 24,
      "outputs": [
        {
          "output_type": "stream",
          "name": "stdout",
          "text": [
            "              precision    recall  f1-score   support\n",
            "\n",
            "           0       0.88      0.86      0.87       167\n",
            "           1       0.86      0.88      0.87       172\n",
            "\n",
            "    accuracy                           0.87       339\n",
            "   macro avg       0.87      0.87      0.87       339\n",
            "weighted avg       0.87      0.87      0.87       339\n",
            "\n",
            "F1 Score:\n"
          ]
        },
        {
          "output_type": "execute_result",
          "data": {
            "text/plain": [
              "0.8735632183908046"
            ]
          },
          "metadata": {},
          "execution_count": 24
        }
      ]
    }
  ]
}